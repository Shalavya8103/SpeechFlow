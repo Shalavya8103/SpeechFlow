{
  "nbformat": 4,
  "nbformat_minor": 0,
  "metadata": {
    "colab": {
      "provenance": []
    },
    "kernelspec": {
      "name": "python3",
      "display_name": "Python 3"
    },
    "language_info": {
      "name": "python"
    }
  },
  "cells": [
    {
      "cell_type": "code",
      "execution_count": null,
      "metadata": {
        "colab": {
          "base_uri": "https://localhost:8080/"
        },
        "collapsed": true,
        "id": "mUVx7EW5U3Wc",
        "outputId": "386bc4a9-046e-45ea-a67d-3af50852cf96"
      },
      "outputs": [
        {
          "output_type": "stream",
          "name": "stdout",
          "text": [
            "Collecting instructor\n",
            "  Downloading instructor-1.7.7-py3-none-any.whl.metadata (22 kB)\n",
            "Requirement already satisfied: aiohttp<4.0.0,>=3.9.1 in /usr/local/lib/python3.11/dist-packages (from instructor) (3.11.14)\n",
            "Requirement already satisfied: docstring-parser<1.0,>=0.16 in /usr/local/lib/python3.11/dist-packages (from instructor) (0.16)\n",
            "Requirement already satisfied: jinja2<4.0.0,>=3.1.4 in /usr/local/lib/python3.11/dist-packages (from instructor) (3.1.6)\n",
            "Collecting jiter<0.9,>=0.6.1 (from instructor)\n",
            "  Downloading jiter-0.8.2-cp311-cp311-manylinux_2_17_x86_64.manylinux2014_x86_64.whl.metadata (5.2 kB)\n",
            "Requirement already satisfied: openai<2.0.0,>=1.52.0 in /usr/local/lib/python3.11/dist-packages (from instructor) (1.68.2)\n",
            "Requirement already satisfied: pydantic-core<3.0.0,>=2.18.0 in /usr/local/lib/python3.11/dist-packages (from instructor) (2.27.2)\n",
            "Requirement already satisfied: pydantic<3.0.0,>=2.8.0 in /usr/local/lib/python3.11/dist-packages (from instructor) (2.10.6)\n",
            "Requirement already satisfied: requests<3.0.0,>=2.32.3 in /usr/local/lib/python3.11/dist-packages (from instructor) (2.32.3)\n",
            "Requirement already satisfied: rich<14.0.0,>=13.7.0 in /usr/local/lib/python3.11/dist-packages (from instructor) (13.9.4)\n",
            "Requirement already satisfied: tenacity<10.0.0,>=9.0.0 in /usr/local/lib/python3.11/dist-packages (from instructor) (9.0.0)\n",
            "Requirement already satisfied: typer<1.0.0,>=0.9.0 in /usr/local/lib/python3.11/dist-packages (from instructor) (0.15.2)\n",
            "Requirement already satisfied: aiohappyeyeballs>=2.3.0 in /usr/local/lib/python3.11/dist-packages (from aiohttp<4.0.0,>=3.9.1->instructor) (2.6.1)\n",
            "Requirement already satisfied: aiosignal>=1.1.2 in /usr/local/lib/python3.11/dist-packages (from aiohttp<4.0.0,>=3.9.1->instructor) (1.3.2)\n",
            "Requirement already satisfied: attrs>=17.3.0 in /usr/local/lib/python3.11/dist-packages (from aiohttp<4.0.0,>=3.9.1->instructor) (25.3.0)\n",
            "Requirement already satisfied: frozenlist>=1.1.1 in /usr/local/lib/python3.11/dist-packages (from aiohttp<4.0.0,>=3.9.1->instructor) (1.5.0)\n",
            "Requirement already satisfied: multidict<7.0,>=4.5 in /usr/local/lib/python3.11/dist-packages (from aiohttp<4.0.0,>=3.9.1->instructor) (6.2.0)\n",
            "Requirement already satisfied: propcache>=0.2.0 in /usr/local/lib/python3.11/dist-packages (from aiohttp<4.0.0,>=3.9.1->instructor) (0.3.0)\n",
            "Requirement already satisfied: yarl<2.0,>=1.17.0 in /usr/local/lib/python3.11/dist-packages (from aiohttp<4.0.0,>=3.9.1->instructor) (1.18.3)\n",
            "Requirement already satisfied: MarkupSafe>=2.0 in /usr/local/lib/python3.11/dist-packages (from jinja2<4.0.0,>=3.1.4->instructor) (3.0.2)\n",
            "Requirement already satisfied: anyio<5,>=3.5.0 in /usr/local/lib/python3.11/dist-packages (from openai<2.0.0,>=1.52.0->instructor) (4.9.0)\n",
            "Requirement already satisfied: distro<2,>=1.7.0 in /usr/local/lib/python3.11/dist-packages (from openai<2.0.0,>=1.52.0->instructor) (1.9.0)\n",
            "Requirement already satisfied: httpx<1,>=0.23.0 in /usr/local/lib/python3.11/dist-packages (from openai<2.0.0,>=1.52.0->instructor) (0.28.1)\n",
            "Requirement already satisfied: sniffio in /usr/local/lib/python3.11/dist-packages (from openai<2.0.0,>=1.52.0->instructor) (1.3.1)\n",
            "Requirement already satisfied: tqdm>4 in /usr/local/lib/python3.11/dist-packages (from openai<2.0.0,>=1.52.0->instructor) (4.67.1)\n",
            "Requirement already satisfied: typing-extensions<5,>=4.11 in /usr/local/lib/python3.11/dist-packages (from openai<2.0.0,>=1.52.0->instructor) (4.12.2)\n",
            "Requirement already satisfied: annotated-types>=0.6.0 in /usr/local/lib/python3.11/dist-packages (from pydantic<3.0.0,>=2.8.0->instructor) (0.7.0)\n",
            "Requirement already satisfied: charset-normalizer<4,>=2 in /usr/local/lib/python3.11/dist-packages (from requests<3.0.0,>=2.32.3->instructor) (3.4.1)\n",
            "Requirement already satisfied: idna<4,>=2.5 in /usr/local/lib/python3.11/dist-packages (from requests<3.0.0,>=2.32.3->instructor) (3.10)\n",
            "Requirement already satisfied: urllib3<3,>=1.21.1 in /usr/local/lib/python3.11/dist-packages (from requests<3.0.0,>=2.32.3->instructor) (2.3.0)\n",
            "Requirement already satisfied: certifi>=2017.4.17 in /usr/local/lib/python3.11/dist-packages (from requests<3.0.0,>=2.32.3->instructor) (2025.1.31)\n",
            "Requirement already satisfied: markdown-it-py>=2.2.0 in /usr/local/lib/python3.11/dist-packages (from rich<14.0.0,>=13.7.0->instructor) (3.0.0)\n",
            "Requirement already satisfied: pygments<3.0.0,>=2.13.0 in /usr/local/lib/python3.11/dist-packages (from rich<14.0.0,>=13.7.0->instructor) (2.18.0)\n",
            "Requirement already satisfied: click>=8.0.0 in /usr/local/lib/python3.11/dist-packages (from typer<1.0.0,>=0.9.0->instructor) (8.1.8)\n",
            "Requirement already satisfied: shellingham>=1.3.0 in /usr/local/lib/python3.11/dist-packages (from typer<1.0.0,>=0.9.0->instructor) (1.5.4)\n",
            "Requirement already satisfied: httpcore==1.* in /usr/local/lib/python3.11/dist-packages (from httpx<1,>=0.23.0->openai<2.0.0,>=1.52.0->instructor) (1.0.7)\n",
            "Requirement already satisfied: h11<0.15,>=0.13 in /usr/local/lib/python3.11/dist-packages (from httpcore==1.*->httpx<1,>=0.23.0->openai<2.0.0,>=1.52.0->instructor) (0.14.0)\n",
            "Requirement already satisfied: mdurl~=0.1 in /usr/local/lib/python3.11/dist-packages (from markdown-it-py>=2.2.0->rich<14.0.0,>=13.7.0->instructor) (0.1.2)\n",
            "Downloading instructor-1.7.7-py3-none-any.whl (83 kB)\n",
            "\u001b[2K   \u001b[90m━━━━━━━━━━━━━━━━━━━━━━━━━━━━━━━━━━━━━━━━\u001b[0m \u001b[32m83.9/83.9 kB\u001b[0m \u001b[31m3.3 MB/s\u001b[0m eta \u001b[36m0:00:00\u001b[0m\n",
            "\u001b[?25hDownloading jiter-0.8.2-cp311-cp311-manylinux_2_17_x86_64.manylinux2014_x86_64.whl (345 kB)\n",
            "\u001b[2K   \u001b[90m━━━━━━━━━━━━━━━━━━━━━━━━━━━━━━━━━━━━━━━━\u001b[0m \u001b[32m345.6/345.6 kB\u001b[0m \u001b[31m12.5 MB/s\u001b[0m eta \u001b[36m0:00:00\u001b[0m\n",
            "\u001b[?25hInstalling collected packages: jiter, instructor\n",
            "  Attempting uninstall: jiter\n",
            "    Found existing installation: jiter 0.9.0\n",
            "    Uninstalling jiter-0.9.0:\n",
            "      Successfully uninstalled jiter-0.9.0\n",
            "Successfully installed instructor-1.7.7 jiter-0.8.2\n",
            "Collecting langchain-groq\n",
            "  Downloading langchain_groq-0.3.1-py3-none-any.whl.metadata (2.6 kB)\n",
            "Requirement already satisfied: langchain-core<1.0.0,>=0.3.47 in /usr/local/lib/python3.11/dist-packages (from langchain-groq) (0.3.47)\n",
            "Collecting groq<1,>=0.4.1 (from langchain-groq)\n",
            "  Downloading groq-0.20.0-py3-none-any.whl.metadata (15 kB)\n",
            "Requirement already satisfied: anyio<5,>=3.5.0 in /usr/local/lib/python3.11/dist-packages (from groq<1,>=0.4.1->langchain-groq) (4.9.0)\n",
            "Requirement already satisfied: distro<2,>=1.7.0 in /usr/local/lib/python3.11/dist-packages (from groq<1,>=0.4.1->langchain-groq) (1.9.0)\n",
            "Requirement already satisfied: httpx<1,>=0.23.0 in /usr/local/lib/python3.11/dist-packages (from groq<1,>=0.4.1->langchain-groq) (0.28.1)\n",
            "Requirement already satisfied: pydantic<3,>=1.9.0 in /usr/local/lib/python3.11/dist-packages (from groq<1,>=0.4.1->langchain-groq) (2.10.6)\n",
            "Requirement already satisfied: sniffio in /usr/local/lib/python3.11/dist-packages (from groq<1,>=0.4.1->langchain-groq) (1.3.1)\n",
            "Requirement already satisfied: typing-extensions<5,>=4.10 in /usr/local/lib/python3.11/dist-packages (from groq<1,>=0.4.1->langchain-groq) (4.12.2)\n",
            "Requirement already satisfied: langsmith<0.4,>=0.1.125 in /usr/local/lib/python3.11/dist-packages (from langchain-core<1.0.0,>=0.3.47->langchain-groq) (0.3.18)\n",
            "Requirement already satisfied: tenacity!=8.4.0,<10.0.0,>=8.1.0 in /usr/local/lib/python3.11/dist-packages (from langchain-core<1.0.0,>=0.3.47->langchain-groq) (9.0.0)\n",
            "Requirement already satisfied: jsonpatch<2.0,>=1.33 in /usr/local/lib/python3.11/dist-packages (from langchain-core<1.0.0,>=0.3.47->langchain-groq) (1.33)\n",
            "Requirement already satisfied: PyYAML>=5.3 in /usr/local/lib/python3.11/dist-packages (from langchain-core<1.0.0,>=0.3.47->langchain-groq) (6.0.2)\n",
            "Requirement already satisfied: packaging<25,>=23.2 in /usr/local/lib/python3.11/dist-packages (from langchain-core<1.0.0,>=0.3.47->langchain-groq) (24.2)\n",
            "Requirement already satisfied: idna>=2.8 in /usr/local/lib/python3.11/dist-packages (from anyio<5,>=3.5.0->groq<1,>=0.4.1->langchain-groq) (3.10)\n",
            "Requirement already satisfied: certifi in /usr/local/lib/python3.11/dist-packages (from httpx<1,>=0.23.0->groq<1,>=0.4.1->langchain-groq) (2025.1.31)\n",
            "Requirement already satisfied: httpcore==1.* in /usr/local/lib/python3.11/dist-packages (from httpx<1,>=0.23.0->groq<1,>=0.4.1->langchain-groq) (1.0.7)\n",
            "Requirement already satisfied: h11<0.15,>=0.13 in /usr/local/lib/python3.11/dist-packages (from httpcore==1.*->httpx<1,>=0.23.0->groq<1,>=0.4.1->langchain-groq) (0.14.0)\n",
            "Requirement already satisfied: jsonpointer>=1.9 in /usr/local/lib/python3.11/dist-packages (from jsonpatch<2.0,>=1.33->langchain-core<1.0.0,>=0.3.47->langchain-groq) (3.0.0)\n",
            "Requirement already satisfied: orjson<4.0.0,>=3.9.14 in /usr/local/lib/python3.11/dist-packages (from langsmith<0.4,>=0.1.125->langchain-core<1.0.0,>=0.3.47->langchain-groq) (3.10.15)\n",
            "Requirement already satisfied: requests<3,>=2 in /usr/local/lib/python3.11/dist-packages (from langsmith<0.4,>=0.1.125->langchain-core<1.0.0,>=0.3.47->langchain-groq) (2.32.3)\n",
            "Requirement already satisfied: requests-toolbelt<2.0.0,>=1.0.0 in /usr/local/lib/python3.11/dist-packages (from langsmith<0.4,>=0.1.125->langchain-core<1.0.0,>=0.3.47->langchain-groq) (1.0.0)\n",
            "Requirement already satisfied: zstandard<0.24.0,>=0.23.0 in /usr/local/lib/python3.11/dist-packages (from langsmith<0.4,>=0.1.125->langchain-core<1.0.0,>=0.3.47->langchain-groq) (0.23.0)\n",
            "Requirement already satisfied: annotated-types>=0.6.0 in /usr/local/lib/python3.11/dist-packages (from pydantic<3,>=1.9.0->groq<1,>=0.4.1->langchain-groq) (0.7.0)\n",
            "Requirement already satisfied: pydantic-core==2.27.2 in /usr/local/lib/python3.11/dist-packages (from pydantic<3,>=1.9.0->groq<1,>=0.4.1->langchain-groq) (2.27.2)\n",
            "Requirement already satisfied: charset-normalizer<4,>=2 in /usr/local/lib/python3.11/dist-packages (from requests<3,>=2->langsmith<0.4,>=0.1.125->langchain-core<1.0.0,>=0.3.47->langchain-groq) (3.4.1)\n",
            "Requirement already satisfied: urllib3<3,>=1.21.1 in /usr/local/lib/python3.11/dist-packages (from requests<3,>=2->langsmith<0.4,>=0.1.125->langchain-core<1.0.0,>=0.3.47->langchain-groq) (2.3.0)\n",
            "Downloading langchain_groq-0.3.1-py3-none-any.whl (15 kB)\n",
            "Downloading groq-0.20.0-py3-none-any.whl (124 kB)\n",
            "\u001b[2K   \u001b[90m━━━━━━━━━━━━━━━━━━━━━━━━━━━━━━━━━━━━━━━━\u001b[0m \u001b[32m124.9/124.9 kB\u001b[0m \u001b[31m3.6 MB/s\u001b[0m eta \u001b[36m0:00:00\u001b[0m\n",
            "\u001b[?25hInstalling collected packages: groq, langchain-groq\n",
            "Successfully installed groq-0.20.0 langchain-groq-0.3.1\n",
            "Requirement already satisfied: langchain in /usr/local/lib/python3.11/dist-packages (0.3.21)\n",
            "Requirement already satisfied: langchain-core<1.0.0,>=0.3.45 in /usr/local/lib/python3.11/dist-packages (from langchain) (0.3.47)\n",
            "Requirement already satisfied: langchain-text-splitters<1.0.0,>=0.3.7 in /usr/local/lib/python3.11/dist-packages (from langchain) (0.3.7)\n",
            "Requirement already satisfied: langsmith<0.4,>=0.1.17 in /usr/local/lib/python3.11/dist-packages (from langchain) (0.3.18)\n",
            "Requirement already satisfied: pydantic<3.0.0,>=2.7.4 in /usr/local/lib/python3.11/dist-packages (from langchain) (2.10.6)\n",
            "Requirement already satisfied: SQLAlchemy<3,>=1.4 in /usr/local/lib/python3.11/dist-packages (from langchain) (2.0.39)\n",
            "Requirement already satisfied: requests<3,>=2 in /usr/local/lib/python3.11/dist-packages (from langchain) (2.32.3)\n",
            "Requirement already satisfied: PyYAML>=5.3 in /usr/local/lib/python3.11/dist-packages (from langchain) (6.0.2)\n",
            "Requirement already satisfied: tenacity!=8.4.0,<10.0.0,>=8.1.0 in /usr/local/lib/python3.11/dist-packages (from langchain-core<1.0.0,>=0.3.45->langchain) (9.0.0)\n",
            "Requirement already satisfied: jsonpatch<2.0,>=1.33 in /usr/local/lib/python3.11/dist-packages (from langchain-core<1.0.0,>=0.3.45->langchain) (1.33)\n",
            "Requirement already satisfied: packaging<25,>=23.2 in /usr/local/lib/python3.11/dist-packages (from langchain-core<1.0.0,>=0.3.45->langchain) (24.2)\n",
            "Requirement already satisfied: typing-extensions>=4.7 in /usr/local/lib/python3.11/dist-packages (from langchain-core<1.0.0,>=0.3.45->langchain) (4.12.2)\n",
            "Requirement already satisfied: httpx<1,>=0.23.0 in /usr/local/lib/python3.11/dist-packages (from langsmith<0.4,>=0.1.17->langchain) (0.28.1)\n",
            "Requirement already satisfied: orjson<4.0.0,>=3.9.14 in /usr/local/lib/python3.11/dist-packages (from langsmith<0.4,>=0.1.17->langchain) (3.10.15)\n",
            "Requirement already satisfied: requests-toolbelt<2.0.0,>=1.0.0 in /usr/local/lib/python3.11/dist-packages (from langsmith<0.4,>=0.1.17->langchain) (1.0.0)\n",
            "Requirement already satisfied: zstandard<0.24.0,>=0.23.0 in /usr/local/lib/python3.11/dist-packages (from langsmith<0.4,>=0.1.17->langchain) (0.23.0)\n",
            "Requirement already satisfied: annotated-types>=0.6.0 in /usr/local/lib/python3.11/dist-packages (from pydantic<3.0.0,>=2.7.4->langchain) (0.7.0)\n",
            "Requirement already satisfied: pydantic-core==2.27.2 in /usr/local/lib/python3.11/dist-packages (from pydantic<3.0.0,>=2.7.4->langchain) (2.27.2)\n",
            "Requirement already satisfied: charset-normalizer<4,>=2 in /usr/local/lib/python3.11/dist-packages (from requests<3,>=2->langchain) (3.4.1)\n",
            "Requirement already satisfied: idna<4,>=2.5 in /usr/local/lib/python3.11/dist-packages (from requests<3,>=2->langchain) (3.10)\n",
            "Requirement already satisfied: urllib3<3,>=1.21.1 in /usr/local/lib/python3.11/dist-packages (from requests<3,>=2->langchain) (2.3.0)\n",
            "Requirement already satisfied: certifi>=2017.4.17 in /usr/local/lib/python3.11/dist-packages (from requests<3,>=2->langchain) (2025.1.31)\n",
            "Requirement already satisfied: greenlet!=0.4.17 in /usr/local/lib/python3.11/dist-packages (from SQLAlchemy<3,>=1.4->langchain) (3.1.1)\n",
            "Requirement already satisfied: anyio in /usr/local/lib/python3.11/dist-packages (from httpx<1,>=0.23.0->langsmith<0.4,>=0.1.17->langchain) (4.9.0)\n",
            "Requirement already satisfied: httpcore==1.* in /usr/local/lib/python3.11/dist-packages (from httpx<1,>=0.23.0->langsmith<0.4,>=0.1.17->langchain) (1.0.7)\n",
            "Requirement already satisfied: h11<0.15,>=0.13 in /usr/local/lib/python3.11/dist-packages (from httpcore==1.*->httpx<1,>=0.23.0->langsmith<0.4,>=0.1.17->langchain) (0.14.0)\n",
            "Requirement already satisfied: jsonpointer>=1.9 in /usr/local/lib/python3.11/dist-packages (from jsonpatch<2.0,>=1.33->langchain-core<1.0.0,>=0.3.45->langchain) (3.0.0)\n",
            "Requirement already satisfied: sniffio>=1.1 in /usr/local/lib/python3.11/dist-packages (from anyio->httpx<1,>=0.23.0->langsmith<0.4,>=0.1.17->langchain) (1.3.1)\n",
            "Collecting langchain_community\n",
            "  Downloading langchain_community-0.3.20-py3-none-any.whl.metadata (2.4 kB)\n",
            "Requirement already satisfied: langchain-core<1.0.0,>=0.3.45 in /usr/local/lib/python3.11/dist-packages (from langchain_community) (0.3.47)\n",
            "Requirement already satisfied: langchain<1.0.0,>=0.3.21 in /usr/local/lib/python3.11/dist-packages (from langchain_community) (0.3.21)\n",
            "Requirement already satisfied: SQLAlchemy<3,>=1.4 in /usr/local/lib/python3.11/dist-packages (from langchain_community) (2.0.39)\n",
            "Requirement already satisfied: requests<3,>=2 in /usr/local/lib/python3.11/dist-packages (from langchain_community) (2.32.3)\n",
            "Requirement already satisfied: PyYAML>=5.3 in /usr/local/lib/python3.11/dist-packages (from langchain_community) (6.0.2)\n",
            "Requirement already satisfied: aiohttp<4.0.0,>=3.8.3 in /usr/local/lib/python3.11/dist-packages (from langchain_community) (3.11.14)\n",
            "Requirement already satisfied: tenacity!=8.4.0,<10,>=8.1.0 in /usr/local/lib/python3.11/dist-packages (from langchain_community) (9.0.0)\n",
            "Collecting dataclasses-json<0.7,>=0.5.7 (from langchain_community)\n",
            "  Downloading dataclasses_json-0.6.7-py3-none-any.whl.metadata (25 kB)\n",
            "Collecting pydantic-settings<3.0.0,>=2.4.0 (from langchain_community)\n",
            "  Downloading pydantic_settings-2.8.1-py3-none-any.whl.metadata (3.5 kB)\n",
            "Requirement already satisfied: langsmith<0.4,>=0.1.125 in /usr/local/lib/python3.11/dist-packages (from langchain_community) (0.3.18)\n",
            "Collecting httpx-sse<1.0.0,>=0.4.0 (from langchain_community)\n",
            "  Downloading httpx_sse-0.4.0-py3-none-any.whl.metadata (9.0 kB)\n",
            "Requirement already satisfied: numpy<3,>=1.26.2 in /usr/local/lib/python3.11/dist-packages (from langchain_community) (2.0.2)\n",
            "Requirement already satisfied: aiohappyeyeballs>=2.3.0 in /usr/local/lib/python3.11/dist-packages (from aiohttp<4.0.0,>=3.8.3->langchain_community) (2.6.1)\n",
            "Requirement already satisfied: aiosignal>=1.1.2 in /usr/local/lib/python3.11/dist-packages (from aiohttp<4.0.0,>=3.8.3->langchain_community) (1.3.2)\n",
            "Requirement already satisfied: attrs>=17.3.0 in /usr/local/lib/python3.11/dist-packages (from aiohttp<4.0.0,>=3.8.3->langchain_community) (25.3.0)\n",
            "Requirement already satisfied: frozenlist>=1.1.1 in /usr/local/lib/python3.11/dist-packages (from aiohttp<4.0.0,>=3.8.3->langchain_community) (1.5.0)\n",
            "Requirement already satisfied: multidict<7.0,>=4.5 in /usr/local/lib/python3.11/dist-packages (from aiohttp<4.0.0,>=3.8.3->langchain_community) (6.2.0)\n",
            "Requirement already satisfied: propcache>=0.2.0 in /usr/local/lib/python3.11/dist-packages (from aiohttp<4.0.0,>=3.8.3->langchain_community) (0.3.0)\n",
            "Requirement already satisfied: yarl<2.0,>=1.17.0 in /usr/local/lib/python3.11/dist-packages (from aiohttp<4.0.0,>=3.8.3->langchain_community) (1.18.3)\n",
            "Collecting marshmallow<4.0.0,>=3.18.0 (from dataclasses-json<0.7,>=0.5.7->langchain_community)\n",
            "  Downloading marshmallow-3.26.1-py3-none-any.whl.metadata (7.3 kB)\n",
            "Collecting typing-inspect<1,>=0.4.0 (from dataclasses-json<0.7,>=0.5.7->langchain_community)\n",
            "  Downloading typing_inspect-0.9.0-py3-none-any.whl.metadata (1.5 kB)\n",
            "Requirement already satisfied: langchain-text-splitters<1.0.0,>=0.3.7 in /usr/local/lib/python3.11/dist-packages (from langchain<1.0.0,>=0.3.21->langchain_community) (0.3.7)\n",
            "Requirement already satisfied: pydantic<3.0.0,>=2.7.4 in /usr/local/lib/python3.11/dist-packages (from langchain<1.0.0,>=0.3.21->langchain_community) (2.10.6)\n",
            "Requirement already satisfied: jsonpatch<2.0,>=1.33 in /usr/local/lib/python3.11/dist-packages (from langchain-core<1.0.0,>=0.3.45->langchain_community) (1.33)\n",
            "Requirement already satisfied: packaging<25,>=23.2 in /usr/local/lib/python3.11/dist-packages (from langchain-core<1.0.0,>=0.3.45->langchain_community) (24.2)\n",
            "Requirement already satisfied: typing-extensions>=4.7 in /usr/local/lib/python3.11/dist-packages (from langchain-core<1.0.0,>=0.3.45->langchain_community) (4.12.2)\n",
            "Requirement already satisfied: httpx<1,>=0.23.0 in /usr/local/lib/python3.11/dist-packages (from langsmith<0.4,>=0.1.125->langchain_community) (0.28.1)\n",
            "Requirement already satisfied: orjson<4.0.0,>=3.9.14 in /usr/local/lib/python3.11/dist-packages (from langsmith<0.4,>=0.1.125->langchain_community) (3.10.15)\n",
            "Requirement already satisfied: requests-toolbelt<2.0.0,>=1.0.0 in /usr/local/lib/python3.11/dist-packages (from langsmith<0.4,>=0.1.125->langchain_community) (1.0.0)\n",
            "Requirement already satisfied: zstandard<0.24.0,>=0.23.0 in /usr/local/lib/python3.11/dist-packages (from langsmith<0.4,>=0.1.125->langchain_community) (0.23.0)\n",
            "Collecting python-dotenv>=0.21.0 (from pydantic-settings<3.0.0,>=2.4.0->langchain_community)\n",
            "  Downloading python_dotenv-1.1.0-py3-none-any.whl.metadata (24 kB)\n",
            "Requirement already satisfied: charset-normalizer<4,>=2 in /usr/local/lib/python3.11/dist-packages (from requests<3,>=2->langchain_community) (3.4.1)\n",
            "Requirement already satisfied: idna<4,>=2.5 in /usr/local/lib/python3.11/dist-packages (from requests<3,>=2->langchain_community) (3.10)\n",
            "Requirement already satisfied: urllib3<3,>=1.21.1 in /usr/local/lib/python3.11/dist-packages (from requests<3,>=2->langchain_community) (2.3.0)\n",
            "Requirement already satisfied: certifi>=2017.4.17 in /usr/local/lib/python3.11/dist-packages (from requests<3,>=2->langchain_community) (2025.1.31)\n",
            "Requirement already satisfied: greenlet!=0.4.17 in /usr/local/lib/python3.11/dist-packages (from SQLAlchemy<3,>=1.4->langchain_community) (3.1.1)\n",
            "Requirement already satisfied: anyio in /usr/local/lib/python3.11/dist-packages (from httpx<1,>=0.23.0->langsmith<0.4,>=0.1.125->langchain_community) (4.9.0)\n",
            "Requirement already satisfied: httpcore==1.* in /usr/local/lib/python3.11/dist-packages (from httpx<1,>=0.23.0->langsmith<0.4,>=0.1.125->langchain_community) (1.0.7)\n",
            "Requirement already satisfied: h11<0.15,>=0.13 in /usr/local/lib/python3.11/dist-packages (from httpcore==1.*->httpx<1,>=0.23.0->langsmith<0.4,>=0.1.125->langchain_community) (0.14.0)\n",
            "Requirement already satisfied: jsonpointer>=1.9 in /usr/local/lib/python3.11/dist-packages (from jsonpatch<2.0,>=1.33->langchain-core<1.0.0,>=0.3.45->langchain_community) (3.0.0)\n",
            "Requirement already satisfied: annotated-types>=0.6.0 in /usr/local/lib/python3.11/dist-packages (from pydantic<3.0.0,>=2.7.4->langchain<1.0.0,>=0.3.21->langchain_community) (0.7.0)\n",
            "Requirement already satisfied: pydantic-core==2.27.2 in /usr/local/lib/python3.11/dist-packages (from pydantic<3.0.0,>=2.7.4->langchain<1.0.0,>=0.3.21->langchain_community) (2.27.2)\n",
            "Collecting mypy-extensions>=0.3.0 (from typing-inspect<1,>=0.4.0->dataclasses-json<0.7,>=0.5.7->langchain_community)\n",
            "  Downloading mypy_extensions-1.0.0-py3-none-any.whl.metadata (1.1 kB)\n",
            "Requirement already satisfied: sniffio>=1.1 in /usr/local/lib/python3.11/dist-packages (from anyio->httpx<1,>=0.23.0->langsmith<0.4,>=0.1.125->langchain_community) (1.3.1)\n",
            "Downloading langchain_community-0.3.20-py3-none-any.whl (2.5 MB)\n",
            "\u001b[2K   \u001b[90m━━━━━━━━━━━━━━━━━━━━━━━━━━━━━━━━━━━━━━━━\u001b[0m \u001b[32m2.5/2.5 MB\u001b[0m \u001b[31m29.2 MB/s\u001b[0m eta \u001b[36m0:00:00\u001b[0m\n",
            "\u001b[?25hDownloading dataclasses_json-0.6.7-py3-none-any.whl (28 kB)\n",
            "Downloading httpx_sse-0.4.0-py3-none-any.whl (7.8 kB)\n",
            "Downloading pydantic_settings-2.8.1-py3-none-any.whl (30 kB)\n",
            "Downloading marshmallow-3.26.1-py3-none-any.whl (50 kB)\n",
            "\u001b[2K   \u001b[90m━━━━━━━━━━━━━━━━━━━━━━━━━━━━━━━━━━━━━━━━\u001b[0m \u001b[32m50.9/50.9 kB\u001b[0m \u001b[31m3.7 MB/s\u001b[0m eta \u001b[36m0:00:00\u001b[0m\n",
            "\u001b[?25hDownloading python_dotenv-1.1.0-py3-none-any.whl (20 kB)\n",
            "Downloading typing_inspect-0.9.0-py3-none-any.whl (8.8 kB)\n",
            "Downloading mypy_extensions-1.0.0-py3-none-any.whl (4.7 kB)\n",
            "Installing collected packages: python-dotenv, mypy-extensions, marshmallow, httpx-sse, typing-inspect, pydantic-settings, dataclasses-json, langchain_community\n",
            "Successfully installed dataclasses-json-0.6.7 httpx-sse-0.4.0 langchain_community-0.3.20 marshmallow-3.26.1 mypy-extensions-1.0.0 pydantic-settings-2.8.1 python-dotenv-1.1.0 typing-inspect-0.9.0\n"
          ]
        }
      ],
      "source": [
        "!pip install instructor\n",
        "!pip install langchain-groq\n",
        "!pip install langchain\n",
        "!pip install langchain_community"
      ]
    },
    {
      "cell_type": "code",
      "source": [
        "import instructor\n",
        "from langchain_groq import ChatGroq\n",
        "from typing import Iterable, List, Optional\n",
        "from enum import Enum\n",
        "from pydantic import BaseModel"
      ],
      "metadata": {
        "id": "C6TnkzNGfP1q"
      },
      "execution_count": 70,
      "outputs": []
    },
    {
      "cell_type": "code",
      "source": [
        "llm = ChatGroq(\n",
        "    api_key=\"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\",\n",
        "    model_name=\"deepseek-r1-distill-llama-70b\"\n",
        "  )"
      ],
      "metadata": {
        "id": "iGAK1DV8aHaA"
      },
      "execution_count": 71,
      "outputs": []
    },
    {
      "cell_type": "code",
      "source": [
        "prompt=  \"\"\"\n",
        "Alice: Hey team, we have several critical tasks we need to tackle for the upcoming release. First, we need to work on improving the authentication system. It's a top priority.\n",
        "Bob: Got it, Alice. I can take the lead on the authentication improvements. Are there any specific areas you want me to focus on?\n",
        "Alice: Good question, Bob. We need both a front-end revamp and back-end optimization. So basically, two sub-tasks.\n",
        "Carol: I can help with the front-end part of the authentication system.\n",
        "Bob: Great, Carol. I'll handle the back-end optimization then.\n",
        "Alice: Perfect. Now, after the authentication system is improved, we have to integrate it with our new billing system as a sperate task. That's a medium priority task.\n",
        "Carol: Is the new billing system already in place?\n",
        "Alice: No, it's actually another task. So it's a dependency for the integration task. Bob, can you also handle the billing system?\n",
        "Bob: Sure, but I'll need to complete the back-end optimization of the authentication system first, so it's dependent on that.\n",
        "Alice: Understood. Lastly, we also need to update our user documentation to reflect all these changes. It's a low-priority task but still important.\n",
        "Carol: I can take that on once the front-end changes for the authentication system are done. So, it would be dependent on that.\n",
        "Alice: Sounds like a plan. Let's get these tasks modeled out and get started.\"\"\""
      ],
      "metadata": {
        "id": "NCBHkx4xQC9V"
      },
      "execution_count": 72,
      "outputs": []
    },
    {
      "cell_type": "markdown",
      "source": [
        "# **Summarization**"
      ],
      "metadata": {
        "id": "ebp0fMdxbQUo"
      }
    },
    {
      "cell_type": "code",
      "source": [
        "from langchain.schema import HumanMessage\n",
        "from langchain.prompts import PromptTemplate\n",
        "prompt_template = PromptTemplate(\n",
        "    input_variables=[\"transcript\"],\n",
        "    template=\"\"\"\n",
        "You are an intelligent assistant designed to summarize business meetings.\n",
        "Below is the transcript of a meeting. Your task is to generate a clear, concise, and comprehensive summary that includes all important details.\n",
        "\n",
        "Focus on the following only:\n",
        "- Key discussion points and topics covered\n",
        "- Important decisions made\n",
        "Avoid repeating dialogue and keep the summary professional and well-structured.\n",
        "\n",
        "Meeting Transcript:\n",
        "{transcript}\n",
        "\n",
        "Generate the summary below:\n",
        "\"\"\"\n",
        ")\n",
        "\n",
        "\n",
        "def summarize_meeting(transcript_text: str) -> str:\n",
        "    prompt = prompt_template.format(transcript=transcript_text)\n",
        "    response = llm([HumanMessage(content=prompt)])\n",
        "    return response.content\n",
        "\n",
        "summary=summarize_meeting(prompt)"
      ],
      "metadata": {
        "id": "o17VTq3RVW64"
      },
      "execution_count": 73,
      "outputs": []
    },
    {
      "cell_type": "code",
      "source": [
        "import re\n",
        "summary=re.sub(r\"<think>.*?</think>\", \"\", summary, flags=re.DOTALL).strip()\n",
        "summary = summary.replace(\"*\", \"\")\n",
        "print(summary)"
      ],
      "metadata": {
        "colab": {
          "base_uri": "https://localhost:8080/"
        },
        "id": "4MZT5ZA7b2my",
        "outputId": "46abe0e8-93e7-4059-8c31-af512e43e0cd"
      },
      "execution_count": 76,
      "outputs": [
        {
          "output_type": "stream",
          "name": "stdout",
          "text": [
            "Meeting Summary\n",
            "\n",
            "- Key Discussion Points and Topics Covered:\n",
            "  1. Authentication System Improvement:  \n",
            "     - Identified as the top priority task.  \n",
            "     - Sub-tasks include front-end revamp and back-end optimization.  \n",
            "     - Bob will lead the back-end optimization, while Carol will handle the front-end part.  \n",
            "\n",
            "  2. Integration with New Billing System:  \n",
            "     - This is a medium-priority task.  \n",
            "     - The integration is dependent on the completion of the authentication system improvements.  \n",
            "     - Bob will also handle the development of the new billing system, with the work starting after the back-end optimization of the authentication system is completed.  \n",
            "\n",
            "  3. User Documentation Update:  \n",
            "     - Identified as a low-priority task but still important.  \n",
            "     - Carol will take charge of updating the user documentation once the front-end changes for the authentication system are completed.  \n",
            "\n",
            "- Important Decisions Made:\n",
            "  - Tasks and responsibilities were assigned as follows:  \n",
            "    - Bob: Back-end optimization of the authentication system and development of the new billing system.  \n",
            "    - Carol: Front-end revamp of the authentication system and updating the user documentation.  \n",
            "  - Dependencies were established for the billing system and documentation tasks.  \n",
            "  - The team agreed to model these tasks and begin work immediately.\n"
          ]
        }
      ]
    },
    {
      "cell_type": "markdown",
      "source": [
        "#**Action Item Classification**"
      ],
      "metadata": {
        "id": "uEBRRzyDbnya"
      }
    },
    {
      "cell_type": "code",
      "source": [
        "#Model\n",
        "class PriorityEnum(str, Enum):\n",
        "    urgent=\"1\"\n",
        "    high = \"2\"\n",
        "    medium = \"3\"\n",
        "    low = \"4\"\n",
        "\n",
        "class Subtask(BaseModel):\n",
        "    \"\"\"Correctly resolved subtask from the given transcript\"\"\"\n",
        "    id: int\n",
        "    name: str\n",
        "    description: str\n",
        "    priority: PriorityEnum\n",
        "    assignees: List[str]\n",
        "\n",
        "\n",
        "class Ticket(BaseModel):\n",
        "    \"\"\"Correctly resolved ticket from the given transcript\"\"\"\n",
        "    id: int\n",
        "    name: str\n",
        "    description: str\n",
        "    priority: PriorityEnum\n",
        "    assignees: List[str]\n",
        "    subtasks: Optional[List[Subtask]]\n",
        "    dependencies: Optional[List[int]]\n",
        "\n",
        "class TicketList(BaseModel):\n",
        "    tickets: List[Ticket]\n"
      ],
      "metadata": {
        "id": "4K1N_WQbdT5q"
      },
      "execution_count": 77,
      "outputs": []
    },
    {
      "cell_type": "code",
      "source": [
        "client = llm.with_structured_output(TicketList)\n",
        "def generate(data)-> Iterable[Ticket]:\n",
        "  messages = [\n",
        "    (\"system\", \"The following is a transcript of a meeting...\"),\n",
        "    (\"human\", f\"Create the action items for the following transcript: {data}\")\n",
        "    ]\n",
        "  output = client.invoke(messages)\n",
        "  return output.tickets\n"
      ],
      "metadata": {
        "id": "yB7uCPhcfYv2"
      },
      "execution_count": 78,
      "outputs": []
    },
    {
      "cell_type": "code",
      "source": [
        "prediction = generate(prompt)\n",
        "print(prediction)"
      ],
      "metadata": {
        "colab": {
          "base_uri": "https://localhost:8080/"
        },
        "id": "YuuMIUzUfena",
        "outputId": "0786b2aa-40f4-491b-be2f-d51763ece623"
      },
      "execution_count": 79,
      "outputs": [
        {
          "output_type": "stream",
          "name": "stdout",
          "text": [
            "[Ticket(id=1, name='Improve Authentication System', description='Critical task to improve the authentication system', priority=<PriorityEnum.urgent: '1'>, assignees=['Bob'], subtasks=[Subtask(id=1, name='Front-end Revamp', description='Front-end improvements for authentication system', priority=<PriorityEnum.urgent: '1'>, assignees=['Carol']), Subtask(id=2, name='Back-end Optimization', description='Back-end optimization for authentication system', priority=<PriorityEnum.urgent: '1'>, assignees=['Bob'])], dependencies=None), Ticket(id=2, name='Integrate with Billing System', description='Integrate authentication system with new billing system', priority=<PriorityEnum.high: '2'>, assignees=['Bob'], subtasks=None, dependencies=[2]), Ticket(id=3, name='Update User Documentation', description='Update user documentation to reflect changes', priority=<PriorityEnum.low: '4'>, assignees=['Carol'], subtasks=None, dependencies=[1])]\n"
          ]
        }
      ]
    },
    {
      "cell_type": "code",
      "source": [
        "for ticket in prediction:\n",
        "        print(f\"\\nTicket {ticket.id}: {ticket.name}\")\n",
        "        print(f\"   Description: {ticket.description}\")\n",
        "        print(f\"   Priority: {ticket.priority.name.capitalize()}\")\n",
        "        print(f\"   Assignees: {', '.join(ticket.assignees)}\")\n",
        "\n",
        "        if ticket.dependencies:\n",
        "            print(f\"   Dependencies: {ticket.dependencies}\")\n",
        "\n",
        "        if ticket.subtasks:\n",
        "            print(\"   Subtasks:\")\n",
        "            for sub in ticket.subtasks:\n",
        "                print(f\"     - [{sub.id}] {sub.name}\")\n",
        "                print(f\"       Description: {sub.description}\")\n",
        "                print(f\"       Priority: {sub.priority.name.capitalize()}\")\n",
        "                print(f\"       Assignees: {', '.join(sub.assignees)}\")\n"
      ],
      "metadata": {
        "colab": {
          "base_uri": "https://localhost:8080/"
        },
        "id": "zN9EcKIgfzQ3",
        "outputId": "729ce967-ba0b-4bb6-9f69-03b866089de7"
      },
      "execution_count": 83,
      "outputs": [
        {
          "output_type": "stream",
          "name": "stdout",
          "text": [
            "\n",
            "Ticket 1: Improve Authentication System\n",
            "   Description: Critical task to improve the authentication system\n",
            "   Priority: Urgent\n",
            "   Assignees: Bob\n",
            "   Subtasks:\n",
            "     - [1] Front-end Revamp\n",
            "       Description: Front-end improvements for authentication system\n",
            "       Priority: Urgent\n",
            "       Assignees: Carol\n",
            "     - [2] Back-end Optimization\n",
            "       Description: Back-end optimization for authentication system\n",
            "       Priority: Urgent\n",
            "       Assignees: Bob\n",
            "\n",
            "Ticket 2: Integrate with Billing System\n",
            "   Description: Integrate authentication system with new billing system\n",
            "   Priority: High\n",
            "   Assignees: Bob\n",
            "   Dependencies: [2]\n",
            "\n",
            "Ticket 3: Update User Documentation\n",
            "   Description: Update user documentation to reflect changes\n",
            "   Priority: Low\n",
            "   Assignees: Carol\n",
            "   Dependencies: [1]\n"
          ]
        }
      ]
    },
    {
      "cell_type": "markdown",
      "source": [
        "#**Clickup Integration**"
      ],
      "metadata": {
        "id": "jUHMWgoMMNVr"
      }
    },
    {
      "cell_type": "code",
      "source": [
        "from langchain_community.agent_toolkits.clickup.toolkit import ClickupToolkit\n",
        "from langchain_community.utilities.clickup import ClickupAPIWrapper"
      ],
      "metadata": {
        "id": "1iqmZMehnNYg"
      },
      "execution_count": 84,
      "outputs": []
    },
    {
      "cell_type": "code",
      "source": [
        "from google.colab import userdata\n",
        "\n",
        "oauth_client_id = \"LI26TABAZH64X2UMU32Q3MOHC84TRJD9\"\n",
        "oauth_client_secret = userdata.get('FMVO016Q5R4JCG78SA299FTT8DLR5NWHFFV37PJ4L58MO6FCZRW3L02MUF0852PK')\n",
        "redirect_uri = \"https://google.com\"\n",
        "\n",
        "print(\"Click this link, select your workspace, click `Connect Workspace`\")\n",
        "print(ClickupAPIWrapper.get_access_code_url(oauth_client_id, redirect_uri))"
      ],
      "metadata": {
        "colab": {
          "base_uri": "https://localhost:8080/"
        },
        "id": "Y_kKOQueWnJ3",
        "outputId": "58b3fecd-2b9b-457b-e2da-d3d10fcb397f"
      },
      "execution_count": null,
      "outputs": [
        {
          "output_type": "stream",
          "name": "stdout",
          "text": [
            "Click this link, select your workspace, click `Connect Workspace`\n",
            "https://app.clickup.com/api?client_id=LI26TABAZH64X2UMU32Q3MOHC84TRJD9&redirect_uri=https://google.com\n"
          ]
        }
      ]
    },
    {
      "cell_type": "code",
      "source": [
        "code = userdata.get('BR813KIXRWXK863I72UGUDU332BY36PT')"
      ],
      "metadata": {
        "id": "RQ2LpY1OW4Go"
      },
      "execution_count": null,
      "outputs": []
    },
    {
      "cell_type": "code",
      "source": [
        "access_token = ClickupAPIWrapper.get_access_token(\n",
        "    oauth_client_id, oauth_client_secret, code\n",
        ")"
      ],
      "metadata": {
        "id": "10dL8bQZXE6A"
      },
      "execution_count": null,
      "outputs": []
    },
    {
      "cell_type": "code",
      "source": [
        "clickup_api_wrapper = ClickupAPIWrapper(access_token=access_token)\n",
        "toolkit = ClickupToolkit.from_clickup_api_wrapper(clickup_api_wrapper)\n",
        "print(\n",
        "    f\"Found team_id: {clickup_api_wrapper.team_id}.\")"
      ],
      "metadata": {
        "colab": {
          "base_uri": "https://localhost:8080/"
        },
        "id": "bzbdJAwPXJbU",
        "outputId": "45312105-a760-4b9d-febd-9efabf9f5de4"
      },
      "execution_count": null,
      "outputs": [
        {
          "output_type": "stream",
          "name": "stdout",
          "text": [
            "Found team_id: 9016845074.\n"
          ]
        }
      ]
    },
    {
      "cell_type": "code",
      "source": [
        "import requests\n",
        "\n",
        "url = \"https://api.clickup.com/api/v2/list/901607089572/task?custom_task_ids=true&team_id=9016845074\"\n",
        "\n",
        "headers = {\n",
        "    \"accept\": \"application/json\",\n",
        "    \"content-type\": \"application/json\",\n",
        "    \"Authorization\": \"55398888_6a502008f0daf3f52e28aad2f5b686ff800b90cddc9aec60f9a38a5febb744fb\"\n",
        "}"
      ],
      "metadata": {
        "id": "yM4_3Juibf-L"
      },
      "execution_count": null,
      "outputs": []
    },
    {
      "cell_type": "code",
      "source": [
        "for ticket in prediction:\n",
        "    parent_task = {\n",
        "        \"name\": ticket.name,\n",
        "        \"description\": ticket.description,\n",
        "        \"tags\": ticket.assignees,\n",
        "        \"status\": \"to do\",\n",
        "        \"priority\": ticket.priority.value,\n",
        "\n",
        "\n",
        "\n",
        "    }\n",
        "    response = requests.post(url, json=parent_task, headers=headers)\n",
        "    print(response.text)\n",
        "\n",
        "    if ticket.subtasks:\n",
        "        parent_id = response.json()['id']\n",
        "        for subtask in ticket.subtasks:\n",
        "            subtask_task = {\n",
        "                \"name\": subtask.name,\n",
        "                \"description\": subtask.description,\n",
        "                \"tags\": subtask.assignees,\n",
        "                \"status\": \"to do\",\n",
        "                \"priority\": subtask.priority.value,\n",
        "                \"parent\":parent_id,\n",
        "            }\n",
        "            response = requests.post(url, json=subtask_task, headers=headers)\n",
        "            print(response.text)"
      ],
      "metadata": {
        "colab": {
          "base_uri": "https://localhost:8080/"
        },
        "id": "IZhXNf030Qlq",
        "outputId": "93b2b3fa-8ada-4587-de0e-66ad539de983"
      },
      "execution_count": null,
      "outputs": [
        {
          "output_type": "stream",
          "name": "stdout",
          "text": [
            "{\"id\":\"86cybkqcw\",\"custom_id\":null,\"custom_item_id\":0,\"name\":\"Improve Authentication System\",\"text_content\":\"Top priority task to improve the authentication system with front-end and back-end improvements.\",\"description\":\"Top priority task to improve the authentication system with front-end and back-end improvements.\",\"status\":{\"id\":\"p90163169231_DfzAMRIW\",\"status\":\"to do\",\"color\":\"#d3d3d3\",\"orderindex\":0,\"type\":\"open\"},\"orderindex\":\"54.00000000000000000000000000000000\",\"date_created\":\"1742552252339\",\"date_updated\":\"1742552252339\",\"date_closed\":null,\"date_done\":null,\"archived\":false,\"creator\":{\"id\":55398888,\"username\":\"Shalavya Agrawal\",\"color\":\"\",\"email\":\"shalavyaagrawal@gmail.com\",\"profilePicture\":null},\"assignees\":[],\"group_assignees\":[],\"watchers\":[{\"id\":55398888,\"username\":\"Shalavya Agrawal\",\"color\":\"\",\"initials\":\"SA\",\"email\":\"shalavyaagrawal@gmail.com\",\"profilePicture\":null}],\"checklists\":[],\"tags\":[{\"name\":\"bob\",\"tag_fg\":\"#aa2fff\",\"tag_bg\":\"#aa2fff\",\"creator\":55398888}],\"parent\":null,\"top_level_parent\":null,\"priority\":{\"color\":\"#f50000\",\"id\":\"1\",\"orderindex\":\"1\",\"priority\":\"urgent\"},\"due_date\":null,\"start_date\":null,\"points\":null,\"time_estimate\":null,\"time_spent\":0,\"custom_fields\":[],\"dependencies\":[],\"linked_tasks\":[],\"locations\":[],\"team_id\":\"9016845074\",\"url\":\"https://app.clickup.com/t/86cybkqcw\",\"sharing\":{\"public\":false,\"public_share_expires_on\":null,\"public_fields\":[\"assignees\",\"priority\",\"due_date\",\"content\",\"comments\",\"attachments\",\"customFields\",\"subtasks\",\"tags\",\"checklists\",\"coverimage\"],\"token\":null,\"seo_optimized\":false},\"permission_level\":\"create\",\"list\":{\"id\":\"901607089572\",\"name\":\"SpeechFlow\",\"access\":true},\"project\":{\"id\":\"90164242270\",\"name\":\"hidden\",\"hidden\":true,\"access\":true},\"folder\":{\"id\":\"90164242270\",\"name\":\"hidden\",\"hidden\":true,\"access\":true},\"space\":{\"id\":\"90163169231\"}}\n",
            "{\"id\":\"86cybkqcz\",\"custom_id\":null,\"custom_item_id\":0,\"name\":\"Front-end Revamp\",\"text_content\":\"Front-end changes for authentication system\",\"description\":\"Front-end changes for authentication system\",\"status\":{\"id\":\"p90163169231_DfzAMRIW\",\"status\":\"to do\",\"color\":\"#d3d3d3\",\"orderindex\":0,\"type\":\"open\"},\"orderindex\":\"55.00000000000000000000000000000000\",\"date_created\":\"1742552253048\",\"date_updated\":\"1742552253048\",\"date_closed\":null,\"date_done\":null,\"archived\":false,\"creator\":{\"id\":55398888,\"username\":\"Shalavya Agrawal\",\"color\":\"\",\"email\":\"shalavyaagrawal@gmail.com\",\"profilePicture\":null},\"assignees\":[],\"group_assignees\":[],\"watchers\":[{\"id\":55398888,\"username\":\"Shalavya Agrawal\",\"color\":\"\",\"initials\":\"SA\",\"email\":\"shalavyaagrawal@gmail.com\",\"profilePicture\":null}],\"checklists\":[],\"tags\":[{\"name\":\"carol\",\"tag_fg\":\"#455963\",\"tag_bg\":\"#455963\",\"creator\":55398888}],\"parent\":\"86cybkqcw\",\"top_level_parent\":\"86cybkqcw\",\"priority\":{\"color\":\"#f50000\",\"id\":\"1\",\"orderindex\":\"1\",\"priority\":\"urgent\"},\"due_date\":null,\"start_date\":null,\"points\":null,\"time_estimate\":null,\"time_spent\":0,\"custom_fields\":[],\"dependencies\":[],\"linked_tasks\":[],\"locations\":[],\"team_id\":\"9016845074\",\"url\":\"https://app.clickup.com/t/86cybkqcz\",\"sharing\":{\"public\":false,\"public_share_expires_on\":null,\"public_fields\":[\"assignees\",\"priority\",\"due_date\",\"content\",\"comments\",\"attachments\",\"customFields\",\"subtasks\",\"tags\",\"checklists\",\"coverimage\"],\"token\":null,\"seo_optimized\":false},\"permission_level\":\"create\",\"list\":{\"id\":\"901607089572\",\"name\":\"SpeechFlow\",\"access\":true},\"project\":{\"id\":\"90164242270\",\"name\":\"hidden\",\"hidden\":true,\"access\":true},\"folder\":{\"id\":\"90164242270\",\"name\":\"hidden\",\"hidden\":true,\"access\":true},\"space\":{\"id\":\"90163169231\"}}\n",
            "{\"id\":\"86cybkqd0\",\"custom_id\":null,\"custom_item_id\":0,\"name\":\"Back-end Optimization\",\"text_content\":\"Back-end optimization for authentication system\",\"description\":\"Back-end optimization for authentication system\",\"status\":{\"id\":\"p90163169231_DfzAMRIW\",\"status\":\"to do\",\"color\":\"#d3d3d3\",\"orderindex\":0,\"type\":\"open\"},\"orderindex\":\"56.00000000000000000000000000000000\",\"date_created\":\"1742552253819\",\"date_updated\":\"1742552253819\",\"date_closed\":null,\"date_done\":null,\"archived\":false,\"creator\":{\"id\":55398888,\"username\":\"Shalavya Agrawal\",\"color\":\"\",\"email\":\"shalavyaagrawal@gmail.com\",\"profilePicture\":null},\"assignees\":[],\"group_assignees\":[],\"watchers\":[{\"id\":55398888,\"username\":\"Shalavya Agrawal\",\"color\":\"\",\"initials\":\"SA\",\"email\":\"shalavyaagrawal@gmail.com\",\"profilePicture\":null}],\"checklists\":[],\"tags\":[{\"name\":\"bob\",\"tag_fg\":\"#aa2fff\",\"tag_bg\":\"#aa2fff\",\"creator\":55398888}],\"parent\":\"86cybkqcw\",\"top_level_parent\":\"86cybkqcw\",\"priority\":{\"color\":\"#f50000\",\"id\":\"1\",\"orderindex\":\"1\",\"priority\":\"urgent\"},\"due_date\":null,\"start_date\":null,\"points\":null,\"time_estimate\":null,\"time_spent\":0,\"custom_fields\":[],\"dependencies\":[],\"linked_tasks\":[],\"locations\":[],\"team_id\":\"9016845074\",\"url\":\"https://app.clickup.com/t/86cybkqd0\",\"sharing\":{\"public\":false,\"public_share_expires_on\":null,\"public_fields\":[\"assignees\",\"priority\",\"due_date\",\"content\",\"comments\",\"attachments\",\"customFields\",\"subtasks\",\"tags\",\"checklists\",\"coverimage\"],\"token\":null,\"seo_optimized\":false},\"permission_level\":\"create\",\"list\":{\"id\":\"901607089572\",\"name\":\"SpeechFlow\",\"access\":true},\"project\":{\"id\":\"90164242270\",\"name\":\"hidden\",\"hidden\":true,\"access\":true},\"folder\":{\"id\":\"90164242270\",\"name\":\"hidden\",\"hidden\":true,\"access\":true},\"space\":{\"id\":\"90163169231\"}}\n",
            "{\"id\":\"86cybkqd3\",\"custom_id\":null,\"custom_item_id\":0,\"name\":\"Integrate with Billing System\",\"text_content\":\"Integrate the improved authentication system with the new billing system.\",\"description\":\"Integrate the improved authentication system with the new billing system.\",\"status\":{\"id\":\"p90163169231_DfzAMRIW\",\"status\":\"to do\",\"color\":\"#d3d3d3\",\"orderindex\":0,\"type\":\"open\"},\"orderindex\":\"57.00000000000000000000000000000000\",\"date_created\":\"1742552254496\",\"date_updated\":\"1742552254496\",\"date_closed\":null,\"date_done\":null,\"archived\":false,\"creator\":{\"id\":55398888,\"username\":\"Shalavya Agrawal\",\"color\":\"\",\"email\":\"shalavyaagrawal@gmail.com\",\"profilePicture\":null},\"assignees\":[],\"group_assignees\":[],\"watchers\":[{\"id\":55398888,\"username\":\"Shalavya Agrawal\",\"color\":\"\",\"initials\":\"SA\",\"email\":\"shalavyaagrawal@gmail.com\",\"profilePicture\":null}],\"checklists\":[],\"tags\":[{\"name\":\"bob\",\"tag_fg\":\"#aa2fff\",\"tag_bg\":\"#aa2fff\",\"creator\":55398888}],\"parent\":null,\"top_level_parent\":null,\"priority\":{\"color\":\"#f8ae00\",\"id\":\"2\",\"orderindex\":\"2\",\"priority\":\"high\"},\"due_date\":null,\"start_date\":null,\"points\":null,\"time_estimate\":null,\"time_spent\":0,\"custom_fields\":[],\"dependencies\":[],\"linked_tasks\":[],\"locations\":[],\"team_id\":\"9016845074\",\"url\":\"https://app.clickup.com/t/86cybkqd3\",\"sharing\":{\"public\":false,\"public_share_expires_on\":null,\"public_fields\":[\"assignees\",\"priority\",\"due_date\",\"content\",\"comments\",\"attachments\",\"customFields\",\"subtasks\",\"tags\",\"checklists\",\"coverimage\"],\"token\":null,\"seo_optimized\":false},\"permission_level\":\"create\",\"list\":{\"id\":\"901607089572\",\"name\":\"SpeechFlow\",\"access\":true},\"project\":{\"id\":\"90164242270\",\"name\":\"hidden\",\"hidden\":true,\"access\":true},\"folder\":{\"id\":\"90164242270\",\"name\":\"hidden\",\"hidden\":true,\"access\":true},\"space\":{\"id\":\"90163169231\"}}\n",
            "{\"id\":\"86cybkqd7\",\"custom_id\":null,\"custom_item_id\":0,\"name\":\"Implement Billing System\",\"text_content\":\"Develop the new billing system before integration.\",\"description\":\"Develop the new billing system before integration.\",\"status\":{\"id\":\"p90163169231_DfzAMRIW\",\"status\":\"to do\",\"color\":\"#d3d3d3\",\"orderindex\":0,\"type\":\"open\"},\"orderindex\":\"58.00000000000000000000000000000000\",\"date_created\":\"1742552255469\",\"date_updated\":\"1742552255469\",\"date_closed\":null,\"date_done\":null,\"archived\":false,\"creator\":{\"id\":55398888,\"username\":\"Shalavya Agrawal\",\"color\":\"\",\"email\":\"shalavyaagrawal@gmail.com\",\"profilePicture\":null},\"assignees\":[],\"group_assignees\":[],\"watchers\":[{\"id\":55398888,\"username\":\"Shalavya Agrawal\",\"color\":\"\",\"initials\":\"SA\",\"email\":\"shalavyaagrawal@gmail.com\",\"profilePicture\":null}],\"checklists\":[],\"tags\":[{\"name\":\"bob\",\"tag_fg\":\"#aa2fff\",\"tag_bg\":\"#aa2fff\",\"creator\":55398888}],\"parent\":null,\"top_level_parent\":null,\"priority\":{\"color\":\"#f8ae00\",\"id\":\"2\",\"orderindex\":\"2\",\"priority\":\"high\"},\"due_date\":null,\"start_date\":null,\"points\":null,\"time_estimate\":null,\"time_spent\":0,\"custom_fields\":[],\"dependencies\":[],\"linked_tasks\":[],\"locations\":[],\"team_id\":\"9016845074\",\"url\":\"https://app.clickup.com/t/86cybkqd7\",\"sharing\":{\"public\":false,\"public_share_expires_on\":null,\"public_fields\":[\"assignees\",\"priority\",\"due_date\",\"content\",\"comments\",\"attachments\",\"customFields\",\"subtasks\",\"tags\",\"checklists\",\"coverimage\"],\"token\":null,\"seo_optimized\":false},\"permission_level\":\"create\",\"list\":{\"id\":\"901607089572\",\"name\":\"SpeechFlow\",\"access\":true},\"project\":{\"id\":\"90164242270\",\"name\":\"hidden\",\"hidden\":true,\"access\":true},\"folder\":{\"id\":\"90164242270\",\"name\":\"hidden\",\"hidden\":true,\"access\":true},\"space\":{\"id\":\"90163169231\"}}\n",
            "{\"id\":\"86cybkqdb\",\"custom_id\":null,\"custom_item_id\":0,\"name\":\"Update User Documentation\",\"text_content\":\"Update documentation to reflect all system changes.\",\"description\":\"Update documentation to reflect all system changes.\",\"status\":{\"id\":\"p90163169231_DfzAMRIW\",\"status\":\"to do\",\"color\":\"#d3d3d3\",\"orderindex\":0,\"type\":\"open\"},\"orderindex\":\"59.00000000000000000000000000000000\",\"date_created\":\"1742552256516\",\"date_updated\":\"1742552256516\",\"date_closed\":null,\"date_done\":null,\"archived\":false,\"creator\":{\"id\":55398888,\"username\":\"Shalavya Agrawal\",\"color\":\"\",\"email\":\"shalavyaagrawal@gmail.com\",\"profilePicture\":null},\"assignees\":[],\"group_assignees\":[],\"watchers\":[{\"id\":55398888,\"username\":\"Shalavya Agrawal\",\"color\":\"\",\"initials\":\"SA\",\"email\":\"shalavyaagrawal@gmail.com\",\"profilePicture\":null}],\"checklists\":[],\"tags\":[{\"name\":\"carol\",\"tag_fg\":\"#455963\",\"tag_bg\":\"#455963\",\"creator\":55398888}],\"parent\":null,\"top_level_parent\":null,\"priority\":{\"color\":\"#d8d8d8\",\"id\":\"4\",\"orderindex\":\"4\",\"priority\":\"low\"},\"due_date\":null,\"start_date\":null,\"points\":null,\"time_estimate\":null,\"time_spent\":0,\"custom_fields\":[],\"dependencies\":[],\"linked_tasks\":[],\"locations\":[],\"team_id\":\"9016845074\",\"url\":\"https://app.clickup.com/t/86cybkqdb\",\"sharing\":{\"public\":false,\"public_share_expires_on\":null,\"public_fields\":[\"assignees\",\"priority\",\"due_date\",\"content\",\"comments\",\"attachments\",\"customFields\",\"subtasks\",\"tags\",\"checklists\",\"coverimage\"],\"token\":null,\"seo_optimized\":false},\"permission_level\":\"create\",\"list\":{\"id\":\"901607089572\",\"name\":\"SpeechFlow\",\"access\":true},\"project\":{\"id\":\"90164242270\",\"name\":\"hidden\",\"hidden\":true,\"access\":true},\"folder\":{\"id\":\"90164242270\",\"name\":\"hidden\",\"hidden\":true,\"access\":true},\"space\":{\"id\":\"90163169231\"}}\n"
          ]
        }
      ]
    },
    {
      "cell_type": "code",
      "source": [],
      "metadata": {
        "id": "p-Y1FkFfL4KK"
      },
      "execution_count": null,
      "outputs": []
    }
  ]
}